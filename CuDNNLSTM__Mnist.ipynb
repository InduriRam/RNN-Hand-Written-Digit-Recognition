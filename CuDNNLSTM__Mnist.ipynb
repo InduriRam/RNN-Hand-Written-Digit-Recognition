{
  "nbformat": 4,
  "nbformat_minor": 0,
  "metadata": {
    "colab": {
      "name": "Mnist LSTM.ipynb",
      "provenance": [],
      "authorship_tag": "ABX9TyPxPC+EbPlbiBukgAGWeybe",
      "include_colab_link": true
    },
    "kernelspec": {
      "name": "python3",
      "display_name": "Python 3"
    },
    "accelerator": "GPU"
  },
  "cells": [
    {
      "cell_type": "markdown",
      "metadata": {
        "id": "view-in-github",
        "colab_type": "text"
      },
      "source": [
        "<a href=\"https://colab.research.google.com/github/InduriRam/RNN-Hand-Written-Digit-Recognition/blob/master/CuDNNLSTM__Mnist.ipynb\" target=\"_parent\"><img src=\"https://colab.research.google.com/assets/colab-badge.svg\" alt=\"Open In Colab\"/></a>"
      ]
    },
    {
      "cell_type": "code",
      "metadata": {
        "id": "bcH-p6k1kCzf",
        "colab_type": "code",
        "colab": {
          "base_uri": "https://localhost:8080/",
          "height": 64
        },
        "outputId": "1f9ec566-50e9-4888-878b-ae5e5c61445e"
      },
      "source": [
        "import tensorflow as tf\n",
        "from tensorflow.keras.models import Sequential\n",
        "from tensorflow.keras.layers import Dense, Dropout, LSTM ,CuDNNLSTM"
      ],
      "execution_count": 1,
      "outputs": [
        {
          "output_type": "display_data",
          "data": {
            "text/html": [
              "<p style=\"color: red;\">\n",
              "The default version of TensorFlow in Colab will soon switch to TensorFlow 2.x.<br>\n",
              "We recommend you <a href=\"https://www.tensorflow.org/guide/migrate\" target=\"_blank\">upgrade</a> now \n",
              "or ensure your notebook will continue to use TensorFlow 1.x via the <code>%tensorflow_version 1.x</code> magic:\n",
              "<a href=\"https://colab.research.google.com/notebooks/tensorflow_version.ipynb\" target=\"_blank\">more info</a>.</p>\n"
            ],
            "text/plain": [
              "<IPython.core.display.HTML object>"
            ]
          },
          "metadata": {
            "tags": []
          }
        }
      ]
    },
    {
      "cell_type": "code",
      "metadata": {
        "id": "O_qMLEYqkJ7M",
        "colab_type": "code",
        "outputId": "39236cb8-b15e-4fe6-ce3d-5406461638e6",
        "colab": {
          "base_uri": "https://localhost:8080/",
          "height": 52
        }
      },
      "source": [
        "mnist = tf.keras.datasets.mnist\n",
        "(X_train,y_train),(X_test,y_test) = mnist.load_data()\n",
        "X_train = X_train/255.0\n",
        "X_test = X_test/255.0\n"
      ],
      "execution_count": 2,
      "outputs": [
        {
          "output_type": "stream",
          "text": [
            "Downloading data from https://storage.googleapis.com/tensorflow/tf-keras-datasets/mnist.npz\n",
            "11493376/11490434 [==============================] - 0s 0us/step\n"
          ],
          "name": "stdout"
        }
      ]
    },
    {
      "cell_type": "code",
      "metadata": {
        "id": "3yLfDaeMkOAl",
        "colab_type": "code",
        "outputId": "c244855e-b40b-484d-d02a-2c7d98df7017",
        "colab": {
          "base_uri": "https://localhost:8080/",
          "height": 52
        }
      },
      "source": [
        "print(X_train.shape) # 60,000 images\n",
        "print(X_train[0].shape) # 28 by 28 image"
      ],
      "execution_count": 3,
      "outputs": [
        {
          "output_type": "stream",
          "text": [
            "(60000, 28, 28)\n",
            "(28, 28)\n"
          ],
          "name": "stdout"
        }
      ]
    },
    {
      "cell_type": "code",
      "metadata": {
        "id": "CAlJOtXEkOVL",
        "colab_type": "code",
        "colab": {
          "base_uri": "https://localhost:8080/",
          "height": 90
        },
        "outputId": "6de265da-6044-4237-f7bd-79f70e501b88"
      },
      "source": [
        "model = Sequential()\n",
        "model.add(CuDNNLSTM(128, input_shape=(X_train.shape[1:]),return_sequences = True))#return_sequences set to true implies that the network returns or outputs sequential data else flat data, if next layer is an RNN, set return_sequential to True.\n",
        "model.add(Dropout(0.2))\n",
        "model.add(CuDNNLSTM(128))\n",
        "model.add(Dropout(0.2))\n",
        "model.add(Dense(32,activation = 'relu'))\n",
        "model.add(Dropout(0.2))\n",
        "model.add(Dense(10,activation = 'softmax'))\n",
        "\n",
        "opt = tf.keras.optimizers.Adam(lr =1e-3, decay=1e-5) #lr is learning rate, and decay implies that learning rate gradually decreases so that we take smaller steps as time progresses where we could be around a local minima, we wouldn't want to jump around local minima but to go right into it\n"
      ],
      "execution_count": 4,
      "outputs": [
        {
          "output_type": "stream",
          "text": [
            "WARNING:tensorflow:From /usr/local/lib/python3.6/dist-packages/tensorflow_core/python/ops/resource_variable_ops.py:1630: calling BaseResourceVariable.__init__ (from tensorflow.python.ops.resource_variable_ops) with constraint is deprecated and will be removed in a future version.\n",
            "Instructions for updating:\n",
            "If using Keras pass *_constraint arguments to layers.\n"
          ],
          "name": "stdout"
        }
      ]
    },
    {
      "cell_type": "code",
      "metadata": {
        "id": "UTkSgEfKkORj",
        "colab_type": "code",
        "outputId": "c56342f8-2eda-4118-a024-5ffab7474a9b",
        "colab": {
          "base_uri": "https://localhost:8080/",
          "height": 158
        }
      },
      "source": [
        "model.compile(loss='sparse_categorical_crossentropy',optimizer = opt,metrics=['accuracy'])\n",
        "\n",
        "model.fit(X_train,y_train,epochs=3,validation_data = (X_test,y_test))"
      ],
      "execution_count": 5,
      "outputs": [
        {
          "output_type": "stream",
          "text": [
            "Train on 60000 samples, validate on 10000 samples\n",
            "Epoch 1/3\n",
            "60000/60000 [==============================] - 27s 442us/sample - loss: 0.4133 - acc: 0.8730 - val_loss: 0.1315 - val_acc: 0.9615\n",
            "Epoch 2/3\n",
            "60000/60000 [==============================] - 13s 209us/sample - loss: 0.1259 - acc: 0.9669 - val_loss: 0.0758 - val_acc: 0.9791\n",
            "Epoch 3/3\n",
            "60000/60000 [==============================] - 12s 205us/sample - loss: 0.0856 - acc: 0.9772 - val_loss: 0.0645 - val_acc: 0.9811\n"
          ],
          "name": "stdout"
        },
        {
          "output_type": "execute_result",
          "data": {
            "text/plain": [
              "<tensorflow.python.keras.callbacks.History at 0x7fa89c44ef28>"
            ]
          },
          "metadata": {
            "tags": []
          },
          "execution_count": 5
        }
      ]
    },
    {
      "cell_type": "code",
      "metadata": {
        "id": "GLdylMbPlYHr",
        "colab_type": "code",
        "colab": {}
      },
      "source": [
        ""
      ],
      "execution_count": 0,
      "outputs": []
    }
  ]
}